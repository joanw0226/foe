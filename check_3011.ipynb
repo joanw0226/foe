{
 "cells": [
  {
   "cell_type": "code",
   "execution_count": 1,
   "metadata": {
    "collapsed": true
   },
   "outputs": [],
   "source": [
    "import numpy as np \n",
    "import pandas as pd \n",
    "import os.path as op  \n",
    "import datetime as dt \n",
    "import time \n",
    "pd.set_option('display.max_columns', None)\n",
    "pd.set_option('display.max_rows', None)\n",
    "data_dir = op.join('data')"
   ]
  },
  {
   "cell_type": "code",
   "execution_count": 2,
   "metadata": {
    "collapsed": false
   },
   "outputs": [],
   "source": [
    "import massflow_baseline"
   ]
  },
  {
   "cell_type": "code",
   "execution_count": 3,
   "metadata": {
    "collapsed": false
   },
   "outputs": [
    {
     "data": {
      "text/plain": [
       "<module 'massflow_baseline' from 'massflow_baseline.pyc'>"
      ]
     },
     "execution_count": 3,
     "metadata": {},
     "output_type": "execute_result"
    }
   ],
   "source": [
    "reload(massflow_baseline)"
   ]
  },
  {
   "cell_type": "code",
   "execution_count": 4,
   "metadata": {
    "collapsed": false
   },
   "outputs": [
    {
     "data": {
      "text/html": [
       "<div>\n",
       "<table border=\"1\" class=\"dataframe\">\n",
       "  <thead>\n",
       "    <tr style=\"text-align: right;\">\n",
       "      <th></th>\n",
       "      <th>DRS Materials</th>\n",
       "      <th>Total Weight in Thousand Tonnes</th>\n",
       "      <th>Household Kerbside Recycling</th>\n",
       "      <th>Household Kerbside Residual</th>\n",
       "      <th>HWRCs Recycling</th>\n",
       "      <th>HWRCs Residual</th>\n",
       "      <th>Commercial Recycling</th>\n",
       "      <th>Commercial Residual</th>\n",
       "      <th>Litter Residual</th>\n",
       "      <th>Remains in Environment (leftover)</th>\n",
       "    </tr>\n",
       "  </thead>\n",
       "  <tbody>\n",
       "    <tr>\n",
       "      <th>0</th>\n",
       "      <td>DRS Glass Bottles</td>\n",
       "      <td>95.287905</td>\n",
       "      <td>44.697131</td>\n",
       "      <td>8.834748</td>\n",
       "      <td>8.024340</td>\n",
       "      <td>1.130601</td>\n",
       "      <td>6.216617</td>\n",
       "      <td>1.664808</td>\n",
       "      <td>1.379577</td>\n",
       "      <td>23.340082</td>\n",
       "    </tr>\n",
       "    <tr>\n",
       "      <th>1</th>\n",
       "      <td>DRS Plastic Bottles</td>\n",
       "      <td>42.983418</td>\n",
       "      <td>19.131114</td>\n",
       "      <td>6.539446</td>\n",
       "      <td>9.815515</td>\n",
       "      <td>0.639689</td>\n",
       "      <td>0.349923</td>\n",
       "      <td>1.803542</td>\n",
       "      <td>1.427701</td>\n",
       "      <td>3.276488</td>\n",
       "    </tr>\n",
       "    <tr>\n",
       "      <th>2</th>\n",
       "      <td>DRS Ferrous Cans</td>\n",
       "      <td>3.611980</td>\n",
       "      <td>2.361352</td>\n",
       "      <td>0.673000</td>\n",
       "      <td>13.105522</td>\n",
       "      <td>0.176787</td>\n",
       "      <td>0.713968</td>\n",
       "      <td>0.524106</td>\n",
       "      <td>0.366951</td>\n",
       "      <td>-14.309706</td>\n",
       "    </tr>\n",
       "    <tr>\n",
       "      <th>3</th>\n",
       "      <td>DRS Aluminium Cans</td>\n",
       "      <td>6.220110</td>\n",
       "      <td>3.962931</td>\n",
       "      <td>1.409662</td>\n",
       "      <td>4.425776</td>\n",
       "      <td>0.240368</td>\n",
       "      <td>0.178492</td>\n",
       "      <td>0.246638</td>\n",
       "      <td>0.739918</td>\n",
       "      <td>-4.983675</td>\n",
       "    </tr>\n",
       "    <tr>\n",
       "      <th>4</th>\n",
       "      <td>DRS Beverage Cartons</td>\n",
       "      <td>2.871969</td>\n",
       "      <td>0.670587</td>\n",
       "      <td>1.602381</td>\n",
       "      <td>0.816451</td>\n",
       "      <td>0.067846</td>\n",
       "      <td>0.092489</td>\n",
       "      <td>0.215808</td>\n",
       "      <td>0.090234</td>\n",
       "      <td>-0.683828</td>\n",
       "    </tr>\n",
       "    <tr>\n",
       "      <th>5</th>\n",
       "      <td>Total</td>\n",
       "      <td>150.975382</td>\n",
       "      <td>70.823115</td>\n",
       "      <td>19.059238</td>\n",
       "      <td>36.187604</td>\n",
       "      <td>2.255290</td>\n",
       "      <td>7.551489</td>\n",
       "      <td>4.454903</td>\n",
       "      <td>4.004382</td>\n",
       "      <td>6.639361</td>\n",
       "    </tr>\n",
       "    <tr>\n",
       "      <th>6</th>\n",
       "      <td>Percent Contribution</td>\n",
       "      <td>100.000000</td>\n",
       "      <td>50.507992</td>\n",
       "      <td>13.592227</td>\n",
       "      <td>25.807439</td>\n",
       "      <td>1.608376</td>\n",
       "      <td>5.385396</td>\n",
       "      <td>3.177045</td>\n",
       "      <td>2.855752</td>\n",
       "      <td>4.734906</td>\n",
       "    </tr>\n",
       "  </tbody>\n",
       "</table>\n",
       "</div>"
      ],
      "text/plain": [
       "          DRS Materials  Total Weight in Thousand Tonnes  \\\n",
       "0     DRS Glass Bottles                        95.287905   \n",
       "1   DRS Plastic Bottles                        42.983418   \n",
       "2      DRS Ferrous Cans                         3.611980   \n",
       "3    DRS Aluminium Cans                         6.220110   \n",
       "4  DRS Beverage Cartons                         2.871969   \n",
       "5                 Total                       150.975382   \n",
       "6  Percent Contribution                       100.000000   \n",
       "\n",
       "   Household Kerbside Recycling  Household Kerbside Residual  HWRCs Recycling  \\\n",
       "0                     44.697131                     8.834748         8.024340   \n",
       "1                     19.131114                     6.539446         9.815515   \n",
       "2                      2.361352                     0.673000        13.105522   \n",
       "3                      3.962931                     1.409662         4.425776   \n",
       "4                      0.670587                     1.602381         0.816451   \n",
       "5                     70.823115                    19.059238        36.187604   \n",
       "6                     50.507992                    13.592227        25.807439   \n",
       "\n",
       "   HWRCs Residual  Commercial Recycling  Commercial Residual  Litter Residual  \\\n",
       "0        1.130601              6.216617             1.664808         1.379577   \n",
       "1        0.639689              0.349923             1.803542         1.427701   \n",
       "2        0.176787              0.713968             0.524106         0.366951   \n",
       "3        0.240368              0.178492             0.246638         0.739918   \n",
       "4        0.067846              0.092489             0.215808         0.090234   \n",
       "5        2.255290              7.551489             4.454903         4.004382   \n",
       "6        1.608376              5.385396             3.177045         2.855752   \n",
       "\n",
       "   Remains in Environment (leftover)  \n",
       "0                          23.340082  \n",
       "1                           3.276488  \n",
       "2                         -14.309706  \n",
       "3                          -4.983675  \n",
       "4                          -0.683828  \n",
       "5                           6.639361  \n",
       "6                           4.734906  "
      ]
     },
     "execution_count": 4,
     "metadata": {},
     "output_type": "execute_result"
    }
   ],
   "source": [
    "massflow_baseline.get_massflow_baseline()"
   ]
  },
  {
   "cell_type": "code",
   "execution_count": null,
   "metadata": {
    "collapsed": true
   },
   "outputs": [],
   "source": []
  }
 ],
 "metadata": {
  "kernelspec": {
   "display_name": "Python 2",
   "language": "python",
   "name": "python2"
  },
  "language_info": {
   "codemirror_mode": {
    "name": "ipython",
    "version": 2
   },
   "file_extension": ".py",
   "mimetype": "text/x-python",
   "name": "python",
   "nbconvert_exporter": "python",
   "pygments_lexer": "ipython2",
   "version": "2.7.10"
  }
 },
 "nbformat": 4,
 "nbformat_minor": 0
}
