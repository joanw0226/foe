{
 "cells": [
  {
   "cell_type": "code",
   "execution_count": 1,
   "metadata": {
    "collapsed": true
   },
   "outputs": [],
   "source": [
    "import numpy as np \n",
    "import pandas as pd \n",
    "import os.path as op  \n",
    "from datetime import date \n",
    "import time \n",
    "\n",
    "# The default data directory will be '../../data' \n",
    "# This can be redefined by the user of the function. \n",
    "data_dir = op.join('data') \n",
    "pd.set_option('display.max_columns', None)\n",
    "pd.set_option('display.max_rows', None)"
   ]
  },
  {
   "cell_type": "code",
   "execution_count": 3,
   "metadata": {
    "collapsed": false
   },
   "outputs": [],
   "source": [
    "import massflow_baseline"
   ]
  },
  {
   "cell_type": "code",
   "execution_count": 5,
   "metadata": {
    "collapsed": false
   },
   "outputs": [],
   "source": [
    "raw = massflow_baseline.get_data()"
   ]
  },
  {
   "cell_type": "code",
   "execution_count": 6,
   "metadata": {
    "collapsed": false
   },
   "outputs": [
    {
     "data": {
      "text/plain": [
       "array([u'Tonnage collected for recycling', u'Tonnage collected for reuse',\n",
       "       u'Tonnage collected for recycling but actually rejected / disposed',\n",
       "       u'Tonnage collected for reuse but actually rejected / disposed'], dtype=object)"
      ]
     },
     "execution_count": 6,
     "metadata": {},
     "output_type": "execute_result"
    }
   ],
   "source": [
    "question_16 = raw[raw.QuestionNumber == 'Q016']\n",
    "test = question_16[question_16['ColText'].str.contains(\"Tonnage\")]\n",
    "test.ColText.unique()"
   ]
  },
  {
   "cell_type": "markdown",
   "metadata": {},
   "source": [
    "#REUSE\n",
    "All the tonnages recorded for reuse are from non-DRS sources. So they are only added to the \"sum_dry_rec\" for LAs with comingled materials to get accurate disaggregated tonnages for DRS."
   ]
  },
  {
   "cell_type": "code",
   "execution_count": 10,
   "metadata": {
    "collapsed": false
   },
   "outputs": [
    {
     "data": {
      "text/plain": [
       "array([u'Books', u'Textiles & footwear', u'Rubble',\n",
       "       u'WEEE - Fridges & Freezers', u'WEEE - Large Domestic App',\n",
       "       u'Bric-a-brac', u'Gas bottles', u'Bicycles', u'Soil',\n",
       "       u'Plasterboard', u'Furniture', u'Other Scrap metal', u'Wood',\n",
       "       u'Video tapes, DVDs and CDs', u'Paint', u'Car tyres'], dtype=object)"
      ]
     },
     "execution_count": 10,
     "metadata": {},
     "output_type": "execute_result"
    }
   ],
   "source": [
    "hwrcs_reu_ton = question_16[(question_16.ColText == 'Tonnage collected for reuse') & (question_16.Data > 0)]\n",
    "hwrcs_reu_ton.RowText.unique()"
   ]
  },
  {
   "cell_type": "code",
   "execution_count": 14,
   "metadata": {
    "collapsed": false
   },
   "outputs": [
    {
     "data": {
      "text/plain": [
       "(206, 8)"
      ]
     },
     "execution_count": 14,
     "metadata": {},
     "output_type": "execute_result"
    }
   ],
   "source": [
    "hwrcs_reu_ton.shape"
   ]
  },
  {
   "cell_type": "code",
   "execution_count": 15,
   "metadata": {
    "collapsed": false
   },
   "outputs": [
    {
     "data": {
      "text/plain": [
       "(1899, 8)"
      ]
     },
     "execution_count": 15,
     "metadata": {},
     "output_type": "execute_result"
    }
   ],
   "source": [
    "hwrcs_rec_ton = question_16[(question_16.ColText == 'Tonnage collected for recycling') & (question_16.Data > 0)]\n",
    "hwrcs_rec_ton.shape"
   ]
  },
  {
   "cell_type": "code",
   "execution_count": 17,
   "metadata": {
    "collapsed": false
   },
   "outputs": [
    {
     "data": {
      "text/plain": [
       "(1910, 8)"
      ]
     },
     "execution_count": 17,
     "metadata": {},
     "output_type": "execute_result"
    }
   ],
   "source": [
    "hwrcs_rec_ton = question_16[(question_16.ColText == 'Tonnage collected for recycling')]\n",
    "hwrcs_rec_ton.shape"
   ]
  },
  {
   "cell_type": "code",
   "execution_count": 20,
   "metadata": {
    "collapsed": false
   },
   "outputs": [
    {
     "data": {
      "text/html": [
       "<div>\n",
       "<table border=\"1\" class=\"dataframe\">\n",
       "  <thead>\n",
       "    <tr style=\"text-align: right;\">\n",
       "      <th></th>\n",
       "      <th>Authority</th>\n",
       "      <th>Period</th>\n",
       "      <th>QuestionNumber</th>\n",
       "      <th>QuText</th>\n",
       "      <th>RowText</th>\n",
       "      <th>ColText</th>\n",
       "      <th>Data</th>\n",
       "      <th>MaterialGroup</th>\n",
       "    </tr>\n",
       "  </thead>\n",
       "  <tbody>\n",
       "    <tr>\n",
       "      <th>52</th>\n",
       "      <td>Flintshire County Council</td>\n",
       "      <td>Jan 15 - Mar 15</td>\n",
       "      <td>Q016</td>\n",
       "      <td>Tonnes of material collected for recycling/reu...</td>\n",
       "      <td>Books</td>\n",
       "      <td>Tonnage collected for reuse</td>\n",
       "      <td>7.86</td>\n",
       "      <td>Paper &amp; Card</td>\n",
       "    </tr>\n",
       "    <tr>\n",
       "      <th>54</th>\n",
       "      <td>Flintshire County Council</td>\n",
       "      <td>Jan 15 - Mar 15</td>\n",
       "      <td>Q016</td>\n",
       "      <td>Tonnes of material collected for recycling/reu...</td>\n",
       "      <td>Textiles &amp; footwear</td>\n",
       "      <td>Tonnage collected for reuse</td>\n",
       "      <td>36.624</td>\n",
       "      <td>Textiles</td>\n",
       "    </tr>\n",
       "    <tr>\n",
       "      <th>56</th>\n",
       "      <td>Flintshire County Council</td>\n",
       "      <td>Jan 15 - Mar 15</td>\n",
       "      <td>Q016</td>\n",
       "      <td>Tonnes of material collected for recycling/reu...</td>\n",
       "      <td>Rubble</td>\n",
       "      <td>Tonnage collected for reuse</td>\n",
       "      <td>1305.51</td>\n",
       "      <td>Rubble</td>\n",
       "    </tr>\n",
       "    <tr>\n",
       "      <th>157</th>\n",
       "      <td>Flintshire County Council</td>\n",
       "      <td>Oct 14 - Dec 14</td>\n",
       "      <td>Q016</td>\n",
       "      <td>Tonnes of material collected for recycling/reu...</td>\n",
       "      <td>Books</td>\n",
       "      <td>Tonnage collected for reuse</td>\n",
       "      <td>5.491</td>\n",
       "      <td>Paper &amp; Card</td>\n",
       "    </tr>\n",
       "    <tr>\n",
       "      <th>159</th>\n",
       "      <td>Flintshire County Council</td>\n",
       "      <td>Oct 14 - Dec 14</td>\n",
       "      <td>Q016</td>\n",
       "      <td>Tonnes of material collected for recycling/reu...</td>\n",
       "      <td>Textiles &amp; footwear</td>\n",
       "      <td>Tonnage collected for reuse</td>\n",
       "      <td>15.25</td>\n",
       "      <td>Textiles</td>\n",
       "    </tr>\n",
       "  </tbody>\n",
       "</table>\n",
       "</div>"
      ],
      "text/plain": [
       "                     Authority           Period QuestionNumber  \\\n",
       "52   Flintshire County Council  Jan 15 - Mar 15           Q016   \n",
       "54   Flintshire County Council  Jan 15 - Mar 15           Q016   \n",
       "56   Flintshire County Council  Jan 15 - Mar 15           Q016   \n",
       "157  Flintshire County Council  Oct 14 - Dec 14           Q016   \n",
       "159  Flintshire County Council  Oct 14 - Dec 14           Q016   \n",
       "\n",
       "                                                QuText              RowText  \\\n",
       "52   Tonnes of material collected for recycling/reu...                Books   \n",
       "54   Tonnes of material collected for recycling/reu...  Textiles & footwear   \n",
       "56   Tonnes of material collected for recycling/reu...               Rubble   \n",
       "157  Tonnes of material collected for recycling/reu...                Books   \n",
       "159  Tonnes of material collected for recycling/reu...  Textiles & footwear   \n",
       "\n",
       "                         ColText     Data MaterialGroup  \n",
       "52   Tonnage collected for reuse     7.86  Paper & Card  \n",
       "54   Tonnage collected for reuse   36.624      Textiles  \n",
       "56   Tonnage collected for reuse  1305.51        Rubble  \n",
       "157  Tonnage collected for reuse    5.491  Paper & Card  \n",
       "159  Tonnage collected for reuse    15.25      Textiles  "
      ]
     },
     "execution_count": 20,
     "metadata": {},
     "output_type": "execute_result"
    }
   ],
   "source": [
    "hwrcs_reu_ton.head()"
   ]
  },
  {
   "cell_type": "code",
   "execution_count": 21,
   "metadata": {
    "collapsed": false
   },
   "outputs": [
    {
     "data": {
      "text/html": [
       "<div>\n",
       "<table border=\"1\" class=\"dataframe\">\n",
       "  <thead>\n",
       "    <tr style=\"text-align: right;\">\n",
       "      <th></th>\n",
       "      <th>Authority</th>\n",
       "      <th>Period</th>\n",
       "      <th>QuestionNumber</th>\n",
       "      <th>QuText</th>\n",
       "      <th>RowText</th>\n",
       "      <th>ColText</th>\n",
       "      <th>Data</th>\n",
       "      <th>MaterialGroup</th>\n",
       "    </tr>\n",
       "  </thead>\n",
       "  <tbody>\n",
       "    <tr>\n",
       "      <th>38</th>\n",
       "      <td>Flintshire County Council</td>\n",
       "      <td>Jan 15 - Mar 15</td>\n",
       "      <td>Q016</td>\n",
       "      <td>Tonnes of material collected for recycling/reu...</td>\n",
       "      <td>Green garden waste only</td>\n",
       "      <td>Tonnage collected for recycling</td>\n",
       "      <td>328.54</td>\n",
       "      <td>Organic</td>\n",
       "    </tr>\n",
       "    <tr>\n",
       "      <th>39</th>\n",
       "      <td>Flintshire County Council</td>\n",
       "      <td>Jan 15 - Mar 15</td>\n",
       "      <td>Q016</td>\n",
       "      <td>Tonnes of material collected for recycling/reu...</td>\n",
       "      <td>WEEE - Large Domestic App</td>\n",
       "      <td>Tonnage collected for recycling</td>\n",
       "      <td>241.51</td>\n",
       "      <td>WEEE</td>\n",
       "    </tr>\n",
       "    <tr>\n",
       "      <th>40</th>\n",
       "      <td>Flintshire County Council</td>\n",
       "      <td>Jan 15 - Mar 15</td>\n",
       "      <td>Q016</td>\n",
       "      <td>Tonnes of material collected for recycling/reu...</td>\n",
       "      <td>WEEE - Small Domestic App</td>\n",
       "      <td>Tonnage collected for recycling</td>\n",
       "      <td>117.48</td>\n",
       "      <td>WEEE</td>\n",
       "    </tr>\n",
       "    <tr>\n",
       "      <th>41</th>\n",
       "      <td>Flintshire County Council</td>\n",
       "      <td>Jan 15 - Mar 15</td>\n",
       "      <td>Q016</td>\n",
       "      <td>Tonnes of material collected for recycling/reu...</td>\n",
       "      <td>WEEE - Cathode Ray Tubes</td>\n",
       "      <td>Tonnage collected for recycling</td>\n",
       "      <td>44.59</td>\n",
       "      <td>WEEE</td>\n",
       "    </tr>\n",
       "    <tr>\n",
       "      <th>42</th>\n",
       "      <td>Flintshire County Council</td>\n",
       "      <td>Jan 15 - Mar 15</td>\n",
       "      <td>Q016</td>\n",
       "      <td>Tonnes of material collected for recycling/reu...</td>\n",
       "      <td>WEEE - Flourescent tubes and other light bulbs</td>\n",
       "      <td>Tonnage collected for recycling</td>\n",
       "      <td>1</td>\n",
       "      <td>WEEE</td>\n",
       "    </tr>\n",
       "  </tbody>\n",
       "</table>\n",
       "</div>"
      ],
      "text/plain": [
       "                    Authority           Period QuestionNumber  \\\n",
       "38  Flintshire County Council  Jan 15 - Mar 15           Q016   \n",
       "39  Flintshire County Council  Jan 15 - Mar 15           Q016   \n",
       "40  Flintshire County Council  Jan 15 - Mar 15           Q016   \n",
       "41  Flintshire County Council  Jan 15 - Mar 15           Q016   \n",
       "42  Flintshire County Council  Jan 15 - Mar 15           Q016   \n",
       "\n",
       "                                               QuText  \\\n",
       "38  Tonnes of material collected for recycling/reu...   \n",
       "39  Tonnes of material collected for recycling/reu...   \n",
       "40  Tonnes of material collected for recycling/reu...   \n",
       "41  Tonnes of material collected for recycling/reu...   \n",
       "42  Tonnes of material collected for recycling/reu...   \n",
       "\n",
       "                                           RowText  \\\n",
       "38                         Green garden waste only   \n",
       "39                       WEEE - Large Domestic App   \n",
       "40                       WEEE - Small Domestic App   \n",
       "41                        WEEE - Cathode Ray Tubes   \n",
       "42  WEEE - Flourescent tubes and other light bulbs   \n",
       "\n",
       "                            ColText    Data MaterialGroup  \n",
       "38  Tonnage collected for recycling  328.54       Organic  \n",
       "39  Tonnage collected for recycling  241.51          WEEE  \n",
       "40  Tonnage collected for recycling  117.48          WEEE  \n",
       "41  Tonnage collected for recycling   44.59          WEEE  \n",
       "42  Tonnage collected for recycling       1          WEEE  "
      ]
     },
     "execution_count": 21,
     "metadata": {},
     "output_type": "execute_result"
    }
   ],
   "source": [
    "hwrcs_rec_ton.head()"
   ]
  },
  {
   "cell_type": "markdown",
   "metadata": {},
   "source": [
    "#Rejected send to residual"
   ]
  },
  {
   "cell_type": "code",
   "execution_count": 13,
   "metadata": {
    "collapsed": false
   },
   "outputs": [
    {
     "data": {
      "text/html": [
       "<div>\n",
       "<table border=\"1\" class=\"dataframe\">\n",
       "  <thead>\n",
       "    <tr style=\"text-align: right;\">\n",
       "      <th></th>\n",
       "      <th>Authority</th>\n",
       "      <th>Period</th>\n",
       "      <th>QuestionNumber</th>\n",
       "      <th>QuText</th>\n",
       "      <th>RowText</th>\n",
       "      <th>ColText</th>\n",
       "      <th>Data</th>\n",
       "      <th>MaterialGroup</th>\n",
       "    </tr>\n",
       "  </thead>\n",
       "  <tbody>\n",
       "    <tr>\n",
       "      <th>4514</th>\n",
       "      <td>Carmarthenshire County Council</td>\n",
       "      <td>Jan 15 - Mar 15</td>\n",
       "      <td>Q016</td>\n",
       "      <td>Tonnes of material collected for recycling/reu...</td>\n",
       "      <td>Paint</td>\n",
       "      <td>Tonnage collected for recycling but actually r...</td>\n",
       "      <td>32.2</td>\n",
       "      <td>Paint</td>\n",
       "    </tr>\n",
       "    <tr>\n",
       "      <th>4720</th>\n",
       "      <td>Carmarthenshire County Council</td>\n",
       "      <td>Oct 14 - Dec 14</td>\n",
       "      <td>Q016</td>\n",
       "      <td>Tonnes of material collected for recycling/reu...</td>\n",
       "      <td>Paint</td>\n",
       "      <td>Tonnage collected for recycling but actually r...</td>\n",
       "      <td>33.84</td>\n",
       "      <td>Paint</td>\n",
       "    </tr>\n",
       "    <tr>\n",
       "      <th>4940</th>\n",
       "      <td>Carmarthenshire County Council</td>\n",
       "      <td>Jul 14 - Sep 14</td>\n",
       "      <td>Q016</td>\n",
       "      <td>Tonnes of material collected for recycling/reu...</td>\n",
       "      <td>Paint</td>\n",
       "      <td>Tonnage collected for recycling but actually r...</td>\n",
       "      <td>57.98</td>\n",
       "      <td>Paint</td>\n",
       "    </tr>\n",
       "    <tr>\n",
       "      <th>5165</th>\n",
       "      <td>Carmarthenshire County Council</td>\n",
       "      <td>Apr 14 - Jun 14</td>\n",
       "      <td>Q016</td>\n",
       "      <td>Tonnes of material collected for recycling/reu...</td>\n",
       "      <td>Paint</td>\n",
       "      <td>Tonnage collected for recycling but actually r...</td>\n",
       "      <td>61.24</td>\n",
       "      <td>Paint</td>\n",
       "    </tr>\n",
       "    <tr>\n",
       "      <th>9669</th>\n",
       "      <td>Cardiff County Council</td>\n",
       "      <td>Apr 14 - Jun 14</td>\n",
       "      <td>Q016</td>\n",
       "      <td>Tonnes of material collected for recycling/reu...</td>\n",
       "      <td>Rubble</td>\n",
       "      <td>Tonnage collected for recycling but actually r...</td>\n",
       "      <td>18.32</td>\n",
       "      <td>Rubble</td>\n",
       "    </tr>\n",
       "  </tbody>\n",
       "</table>\n",
       "</div>"
      ],
      "text/plain": [
       "                           Authority           Period QuestionNumber  \\\n",
       "4514  Carmarthenshire County Council  Jan 15 - Mar 15           Q016   \n",
       "4720  Carmarthenshire County Council  Oct 14 - Dec 14           Q016   \n",
       "4940  Carmarthenshire County Council  Jul 14 - Sep 14           Q016   \n",
       "5165  Carmarthenshire County Council  Apr 14 - Jun 14           Q016   \n",
       "9669          Cardiff County Council  Apr 14 - Jun 14           Q016   \n",
       "\n",
       "                                                 QuText RowText  \\\n",
       "4514  Tonnes of material collected for recycling/reu...   Paint   \n",
       "4720  Tonnes of material collected for recycling/reu...   Paint   \n",
       "4940  Tonnes of material collected for recycling/reu...   Paint   \n",
       "5165  Tonnes of material collected for recycling/reu...   Paint   \n",
       "9669  Tonnes of material collected for recycling/reu...  Rubble   \n",
       "\n",
       "                                                ColText   Data MaterialGroup  \n",
       "4514  Tonnage collected for recycling but actually r...   32.2         Paint  \n",
       "4720  Tonnage collected for recycling but actually r...  33.84         Paint  \n",
       "4940  Tonnage collected for recycling but actually r...  57.98         Paint  \n",
       "5165  Tonnage collected for recycling but actually r...  61.24         Paint  \n",
       "9669  Tonnage collected for recycling but actually r...  18.32        Rubble  "
      ]
     },
     "execution_count": 13,
     "metadata": {},
     "output_type": "execute_result"
    }
   ],
   "source": [
    "question_16[(question_16.ColText == 'Tonnage collected for recycling but actually rejected / disposed') & (question_16.Data > 0)]"
   ]
  },
  {
   "cell_type": "code",
   "execution_count": null,
   "metadata": {
    "collapsed": true
   },
   "outputs": [],
   "source": []
  }
 ],
 "metadata": {
  "kernelspec": {
   "display_name": "Python 2",
   "language": "python",
   "name": "python2"
  },
  "language_info": {
   "codemirror_mode": {
    "name": "ipython",
    "version": 2
   },
   "file_extension": ".py",
   "mimetype": "text/x-python",
   "name": "python",
   "nbconvert_exporter": "python",
   "pygments_lexer": "ipython2",
   "version": "2.7.10"
  }
 },
 "nbformat": 4,
 "nbformat_minor": 0
}
