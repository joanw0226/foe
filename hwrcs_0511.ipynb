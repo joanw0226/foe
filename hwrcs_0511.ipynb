{
 "cells": [
  {
   "cell_type": "code",
   "execution_count": 37,
   "metadata": {
    "collapsed": false
   },
   "outputs": [],
   "source": [
    "import numpy as np \n",
    "import pandas as pd \n",
    "import os.path as op  \n",
    "import datetime as dt \n",
    "import time \n",
    "\n",
    "# The default data directory will be '../../data' \n",
    "# This can be redefined by the user of the function. \n",
    "data_dir = op.join('data') \n",
    "pd.set_option('display.max_columns', None)\n",
    "pd.set_option('display.max_rows', None)"
   ]
  },
  {
   "cell_type": "code",
   "execution_count": 38,
   "metadata": {
    "collapsed": false
   },
   "outputs": [
    {
     "data": {
      "text/plain": [
       "<module 'massflow_baseline' from 'massflow_baseline.pyc'>"
      ]
     },
     "execution_count": 38,
     "metadata": {},
     "output_type": "execute_result"
    }
   ],
   "source": [
    "import massflow_baseline\n",
    "reload(massflow_baseline)"
   ]
  },
  {
   "cell_type": "code",
   "execution_count": 39,
   "metadata": {
    "collapsed": false
   },
   "outputs": [],
   "source": [
    "raw = massflow_baseline.get_data()"
   ]
  },
  {
   "cell_type": "code",
   "execution_count": 40,
   "metadata": {
    "collapsed": false
   },
   "outputs": [
    {
     "data": {
      "text/plain": [
       "array([u'Tonnage collected for recycling', u'Tonnage collected for reuse',\n",
       "       u'Tonnage collected for recycling but actually rejected / disposed',\n",
       "       u'Tonnage collected for reuse but actually rejected / disposed'], dtype=object)"
      ]
     },
     "execution_count": 40,
     "metadata": {},
     "output_type": "execute_result"
    }
   ],
   "source": [
    "question_16 = raw[raw.QuestionNumber == 'Q016']\n",
    "test = question_16[question_16['ColText'].str.contains(\"Tonnage\")]\n",
    "test.ColText.unique()"
   ]
  },
  {
   "cell_type": "markdown",
   "metadata": {},
   "source": [
    "#REUSE\n",
    "All the tonnages recorded for reuse are from non-DRS sources. So they are only added to the \"sum_dry_rec\" for LAs with comingled materials to get accurate disaggregated tonnages for DRS."
   ]
  },
  {
   "cell_type": "code",
   "execution_count": 41,
   "metadata": {
    "collapsed": false
   },
   "outputs": [
    {
     "data": {
      "text/plain": [
       "array([u'Books', u'Textiles & footwear', u'Rubble',\n",
       "       u'WEEE - Fridges & Freezers', u'WEEE - Large Domestic App',\n",
       "       u'Bric-a-brac', u'Gas bottles', u'Bicycles', u'Soil',\n",
       "       u'Plasterboard', u'Furniture', u'Other Scrap metal', u'Wood',\n",
       "       u'Video tapes, DVDs and CDs', u'Paint', u'Car tyres'], dtype=object)"
      ]
     },
     "execution_count": 41,
     "metadata": {},
     "output_type": "execute_result"
    }
   ],
   "source": [
    "hwrcs_reu_ton = question_16[(question_16.ColText == 'Tonnage collected for reuse') & (question_16.Data > 0)]\n",
    "hwrcs_reu_ton.RowText.unique()"
   ]
  },
  {
   "cell_type": "code",
   "execution_count": 42,
   "metadata": {
    "collapsed": false
   },
   "outputs": [
    {
     "data": {
      "text/html": [
       "<div>\n",
       "<table border=\"1\" class=\"dataframe\">\n",
       "  <thead>\n",
       "    <tr style=\"text-align: right;\">\n",
       "      <th></th>\n",
       "      <th>Authority</th>\n",
       "      <th>Period</th>\n",
       "      <th>QuestionNumber</th>\n",
       "      <th>QuText</th>\n",
       "      <th>RowText</th>\n",
       "      <th>ColText</th>\n",
       "      <th>Data</th>\n",
       "      <th>MaterialGroup</th>\n",
       "    </tr>\n",
       "  </thead>\n",
       "  <tbody>\n",
       "    <tr>\n",
       "      <th>52</th>\n",
       "      <td>Flintshire County Council</td>\n",
       "      <td>Jan 15 - Mar 15</td>\n",
       "      <td>Q016</td>\n",
       "      <td>Tonnes of material collected for recycling/reu...</td>\n",
       "      <td>Books</td>\n",
       "      <td>Tonnage collected for reuse</td>\n",
       "      <td>7.86</td>\n",
       "      <td>Paper &amp; Card</td>\n",
       "    </tr>\n",
       "    <tr>\n",
       "      <th>54</th>\n",
       "      <td>Flintshire County Council</td>\n",
       "      <td>Jan 15 - Mar 15</td>\n",
       "      <td>Q016</td>\n",
       "      <td>Tonnes of material collected for recycling/reu...</td>\n",
       "      <td>Textiles &amp; footwear</td>\n",
       "      <td>Tonnage collected for reuse</td>\n",
       "      <td>36.624</td>\n",
       "      <td>Textiles</td>\n",
       "    </tr>\n",
       "    <tr>\n",
       "      <th>56</th>\n",
       "      <td>Flintshire County Council</td>\n",
       "      <td>Jan 15 - Mar 15</td>\n",
       "      <td>Q016</td>\n",
       "      <td>Tonnes of material collected for recycling/reu...</td>\n",
       "      <td>Rubble</td>\n",
       "      <td>Tonnage collected for reuse</td>\n",
       "      <td>1305.51</td>\n",
       "      <td>Rubble</td>\n",
       "    </tr>\n",
       "    <tr>\n",
       "      <th>157</th>\n",
       "      <td>Flintshire County Council</td>\n",
       "      <td>Oct 14 - Dec 14</td>\n",
       "      <td>Q016</td>\n",
       "      <td>Tonnes of material collected for recycling/reu...</td>\n",
       "      <td>Books</td>\n",
       "      <td>Tonnage collected for reuse</td>\n",
       "      <td>5.491</td>\n",
       "      <td>Paper &amp; Card</td>\n",
       "    </tr>\n",
       "    <tr>\n",
       "      <th>159</th>\n",
       "      <td>Flintshire County Council</td>\n",
       "      <td>Oct 14 - Dec 14</td>\n",
       "      <td>Q016</td>\n",
       "      <td>Tonnes of material collected for recycling/reu...</td>\n",
       "      <td>Textiles &amp; footwear</td>\n",
       "      <td>Tonnage collected for reuse</td>\n",
       "      <td>15.25</td>\n",
       "      <td>Textiles</td>\n",
       "    </tr>\n",
       "  </tbody>\n",
       "</table>\n",
       "</div>"
      ],
      "text/plain": [
       "                     Authority           Period QuestionNumber  \\\n",
       "52   Flintshire County Council  Jan 15 - Mar 15           Q016   \n",
       "54   Flintshire County Council  Jan 15 - Mar 15           Q016   \n",
       "56   Flintshire County Council  Jan 15 - Mar 15           Q016   \n",
       "157  Flintshire County Council  Oct 14 - Dec 14           Q016   \n",
       "159  Flintshire County Council  Oct 14 - Dec 14           Q016   \n",
       "\n",
       "                                                QuText              RowText  \\\n",
       "52   Tonnes of material collected for recycling/reu...                Books   \n",
       "54   Tonnes of material collected for recycling/reu...  Textiles & footwear   \n",
       "56   Tonnes of material collected for recycling/reu...               Rubble   \n",
       "157  Tonnes of material collected for recycling/reu...                Books   \n",
       "159  Tonnes of material collected for recycling/reu...  Textiles & footwear   \n",
       "\n",
       "                         ColText     Data MaterialGroup  \n",
       "52   Tonnage collected for reuse     7.86  Paper & Card  \n",
       "54   Tonnage collected for reuse   36.624      Textiles  \n",
       "56   Tonnage collected for reuse  1305.51        Rubble  \n",
       "157  Tonnage collected for reuse    5.491  Paper & Card  \n",
       "159  Tonnage collected for reuse    15.25      Textiles  "
      ]
     },
     "execution_count": 42,
     "metadata": {},
     "output_type": "execute_result"
    }
   ],
   "source": [
    "hwrcs_reu_ton.head()"
   ]
  },
  {
   "cell_type": "code",
   "execution_count": 43,
   "metadata": {
    "collapsed": false
   },
   "outputs": [
    {
     "data": {
      "text/html": [
       "<div>\n",
       "<table border=\"1\" class=\"dataframe\">\n",
       "  <thead>\n",
       "    <tr style=\"text-align: right;\">\n",
       "      <th></th>\n",
       "      <th>Authority</th>\n",
       "      <th>sum_dry_rec</th>\n",
       "    </tr>\n",
       "  </thead>\n",
       "  <tbody>\n",
       "    <tr>\n",
       "      <th>0</th>\n",
       "      <td>Blaenau Gwent CBC</td>\n",
       "      <td>6.136</td>\n",
       "    </tr>\n",
       "    <tr>\n",
       "      <th>1</th>\n",
       "      <td>Cardiff County Council</td>\n",
       "      <td>320.310</td>\n",
       "    </tr>\n",
       "    <tr>\n",
       "      <th>2</th>\n",
       "      <td>Carmarthenshire County Council</td>\n",
       "      <td>19.020</td>\n",
       "    </tr>\n",
       "    <tr>\n",
       "      <th>3</th>\n",
       "      <td>Ceredigion County Council</td>\n",
       "      <td>1602.210</td>\n",
       "    </tr>\n",
       "    <tr>\n",
       "      <th>4</th>\n",
       "      <td>City  and County of Swansea</td>\n",
       "      <td>271.600</td>\n",
       "    </tr>\n",
       "    <tr>\n",
       "      <th>5</th>\n",
       "      <td>Conwy CBC</td>\n",
       "      <td>18.620</td>\n",
       "    </tr>\n",
       "    <tr>\n",
       "      <th>6</th>\n",
       "      <td>Denbighshire County Council</td>\n",
       "      <td>213.945</td>\n",
       "    </tr>\n",
       "    <tr>\n",
       "      <th>7</th>\n",
       "      <td>Flintshire County Council</td>\n",
       "      <td>7708.283</td>\n",
       "    </tr>\n",
       "    <tr>\n",
       "      <th>8</th>\n",
       "      <td>Gwynedd Council</td>\n",
       "      <td>1175.870</td>\n",
       "    </tr>\n",
       "    <tr>\n",
       "      <th>9</th>\n",
       "      <td>Isle of Anglesey CC</td>\n",
       "      <td>9.920</td>\n",
       "    </tr>\n",
       "    <tr>\n",
       "      <th>10</th>\n",
       "      <td>Merthyr Tydfil CBC</td>\n",
       "      <td>0.980</td>\n",
       "    </tr>\n",
       "    <tr>\n",
       "      <th>11</th>\n",
       "      <td>Monmouthshire CC</td>\n",
       "      <td>207.640</td>\n",
       "    </tr>\n",
       "    <tr>\n",
       "      <th>12</th>\n",
       "      <td>Neath Port Talbot CBC</td>\n",
       "      <td>147.760</td>\n",
       "    </tr>\n",
       "    <tr>\n",
       "      <th>13</th>\n",
       "      <td>Newport City Council</td>\n",
       "      <td>152.780</td>\n",
       "    </tr>\n",
       "    <tr>\n",
       "      <th>14</th>\n",
       "      <td>Pembrokeshire County Council</td>\n",
       "      <td>130.400</td>\n",
       "    </tr>\n",
       "    <tr>\n",
       "      <th>15</th>\n",
       "      <td>Powys County Council</td>\n",
       "      <td>205.589</td>\n",
       "    </tr>\n",
       "    <tr>\n",
       "      <th>16</th>\n",
       "      <td>Vale of Glamorgan Council</td>\n",
       "      <td>55.870</td>\n",
       "    </tr>\n",
       "    <tr>\n",
       "      <th>17</th>\n",
       "      <td>Wrexham CBC</td>\n",
       "      <td>8187.590</td>\n",
       "    </tr>\n",
       "  </tbody>\n",
       "</table>\n",
       "</div>"
      ],
      "text/plain": [
       "                         Authority  sum_dry_rec\n",
       "0                Blaenau Gwent CBC        6.136\n",
       "1           Cardiff County Council      320.310\n",
       "2   Carmarthenshire County Council       19.020\n",
       "3        Ceredigion County Council     1602.210\n",
       "4     City  and County of Swansea       271.600\n",
       "5                        Conwy CBC       18.620\n",
       "6      Denbighshire County Council      213.945\n",
       "7        Flintshire County Council     7708.283\n",
       "8                  Gwynedd Council     1175.870\n",
       "9              Isle of Anglesey CC        9.920\n",
       "10              Merthyr Tydfil CBC        0.980\n",
       "11                Monmouthshire CC      207.640\n",
       "12           Neath Port Talbot CBC      147.760\n",
       "13            Newport City Council      152.780\n",
       "14    Pembrokeshire County Council      130.400\n",
       "15            Powys County Council      205.589\n",
       "16       Vale of Glamorgan Council       55.870\n",
       "17                     Wrexham CBC     8187.590"
      ]
     },
     "execution_count": 43,
     "metadata": {},
     "output_type": "execute_result"
    }
   ],
   "source": [
    "hwrcs_reu_ton_la = hwrcs_reu_ton.groupby('Authority')['Data'].sum().to_frame().reset_index().rename(columns={'Data':'sum_dry_rec'})\n",
    "hwrcs_reu_ton_la"
   ]
  },
  {
   "cell_type": "code",
   "execution_count": 44,
   "metadata": {
    "collapsed": false
   },
   "outputs": [
    {
     "data": {
      "text/plain": [
       "(1899, 8)"
      ]
     },
     "execution_count": 44,
     "metadata": {},
     "output_type": "execute_result"
    }
   ],
   "source": [
    "hwrcs_rec_ton = question_16[(question_16.ColText == 'Tonnage collected for recycling') & (question_16.Data > 0)]\n",
    "hwrcs_rec_ton.shape"
   ]
  },
  {
   "cell_type": "code",
   "execution_count": 45,
   "metadata": {
    "collapsed": false
   },
   "outputs": [
    {
     "data": {
      "text/plain": [
       "(1910, 8)"
      ]
     },
     "execution_count": 45,
     "metadata": {},
     "output_type": "execute_result"
    }
   ],
   "source": [
    "hwrcs_rec_ton = question_16[(question_16.ColText == 'Tonnage collected for recycling')]\n",
    "hwrcs_rec_ton.shape"
   ]
  },
  {
   "cell_type": "code",
   "execution_count": 46,
   "metadata": {
    "collapsed": false
   },
   "outputs": [
    {
     "data": {
      "text/html": [
       "<div>\n",
       "<table border=\"1\" class=\"dataframe\">\n",
       "  <thead>\n",
       "    <tr style=\"text-align: right;\">\n",
       "      <th></th>\n",
       "      <th>Authority</th>\n",
       "      <th>Period</th>\n",
       "      <th>QuestionNumber</th>\n",
       "      <th>QuText</th>\n",
       "      <th>RowText</th>\n",
       "      <th>ColText</th>\n",
       "      <th>Data</th>\n",
       "      <th>MaterialGroup</th>\n",
       "    </tr>\n",
       "  </thead>\n",
       "  <tbody>\n",
       "    <tr>\n",
       "      <th>52</th>\n",
       "      <td>Flintshire County Council</td>\n",
       "      <td>Jan 15 - Mar 15</td>\n",
       "      <td>Q016</td>\n",
       "      <td>Tonnes of material collected for recycling/reu...</td>\n",
       "      <td>Books</td>\n",
       "      <td>Tonnage collected for reuse</td>\n",
       "      <td>7.86</td>\n",
       "      <td>Paper &amp; Card</td>\n",
       "    </tr>\n",
       "    <tr>\n",
       "      <th>54</th>\n",
       "      <td>Flintshire County Council</td>\n",
       "      <td>Jan 15 - Mar 15</td>\n",
       "      <td>Q016</td>\n",
       "      <td>Tonnes of material collected for recycling/reu...</td>\n",
       "      <td>Textiles &amp; footwear</td>\n",
       "      <td>Tonnage collected for reuse</td>\n",
       "      <td>36.624</td>\n",
       "      <td>Textiles</td>\n",
       "    </tr>\n",
       "    <tr>\n",
       "      <th>56</th>\n",
       "      <td>Flintshire County Council</td>\n",
       "      <td>Jan 15 - Mar 15</td>\n",
       "      <td>Q016</td>\n",
       "      <td>Tonnes of material collected for recycling/reu...</td>\n",
       "      <td>Rubble</td>\n",
       "      <td>Tonnage collected for reuse</td>\n",
       "      <td>1305.51</td>\n",
       "      <td>Rubble</td>\n",
       "    </tr>\n",
       "    <tr>\n",
       "      <th>157</th>\n",
       "      <td>Flintshire County Council</td>\n",
       "      <td>Oct 14 - Dec 14</td>\n",
       "      <td>Q016</td>\n",
       "      <td>Tonnes of material collected for recycling/reu...</td>\n",
       "      <td>Books</td>\n",
       "      <td>Tonnage collected for reuse</td>\n",
       "      <td>5.491</td>\n",
       "      <td>Paper &amp; Card</td>\n",
       "    </tr>\n",
       "    <tr>\n",
       "      <th>159</th>\n",
       "      <td>Flintshire County Council</td>\n",
       "      <td>Oct 14 - Dec 14</td>\n",
       "      <td>Q016</td>\n",
       "      <td>Tonnes of material collected for recycling/reu...</td>\n",
       "      <td>Textiles &amp; footwear</td>\n",
       "      <td>Tonnage collected for reuse</td>\n",
       "      <td>15.25</td>\n",
       "      <td>Textiles</td>\n",
       "    </tr>\n",
       "  </tbody>\n",
       "</table>\n",
       "</div>"
      ],
      "text/plain": [
       "                     Authority           Period QuestionNumber  \\\n",
       "52   Flintshire County Council  Jan 15 - Mar 15           Q016   \n",
       "54   Flintshire County Council  Jan 15 - Mar 15           Q016   \n",
       "56   Flintshire County Council  Jan 15 - Mar 15           Q016   \n",
       "157  Flintshire County Council  Oct 14 - Dec 14           Q016   \n",
       "159  Flintshire County Council  Oct 14 - Dec 14           Q016   \n",
       "\n",
       "                                                QuText              RowText  \\\n",
       "52   Tonnes of material collected for recycling/reu...                Books   \n",
       "54   Tonnes of material collected for recycling/reu...  Textiles & footwear   \n",
       "56   Tonnes of material collected for recycling/reu...               Rubble   \n",
       "157  Tonnes of material collected for recycling/reu...                Books   \n",
       "159  Tonnes of material collected for recycling/reu...  Textiles & footwear   \n",
       "\n",
       "                         ColText     Data MaterialGroup  \n",
       "52   Tonnage collected for reuse     7.86  Paper & Card  \n",
       "54   Tonnage collected for reuse   36.624      Textiles  \n",
       "56   Tonnage collected for reuse  1305.51        Rubble  \n",
       "157  Tonnage collected for reuse    5.491  Paper & Card  \n",
       "159  Tonnage collected for reuse    15.25      Textiles  "
      ]
     },
     "execution_count": 46,
     "metadata": {},
     "output_type": "execute_result"
    }
   ],
   "source": [
    "hwrcs_reu_ton.head()"
   ]
  },
  {
   "cell_type": "code",
   "execution_count": 47,
   "metadata": {
    "collapsed": false
   },
   "outputs": [
    {
     "data": {
      "text/html": [
       "<div>\n",
       "<table border=\"1\" class=\"dataframe\">\n",
       "  <thead>\n",
       "    <tr style=\"text-align: right;\">\n",
       "      <th></th>\n",
       "      <th>Authority</th>\n",
       "      <th>Period</th>\n",
       "      <th>QuestionNumber</th>\n",
       "      <th>QuText</th>\n",
       "      <th>RowText</th>\n",
       "      <th>ColText</th>\n",
       "      <th>Data</th>\n",
       "      <th>MaterialGroup</th>\n",
       "    </tr>\n",
       "  </thead>\n",
       "  <tbody>\n",
       "    <tr>\n",
       "      <th>38</th>\n",
       "      <td>Flintshire County Council</td>\n",
       "      <td>Jan 15 - Mar 15</td>\n",
       "      <td>Q016</td>\n",
       "      <td>Tonnes of material collected for recycling/reu...</td>\n",
       "      <td>Green garden waste only</td>\n",
       "      <td>Tonnage collected for recycling</td>\n",
       "      <td>328.54</td>\n",
       "      <td>Organic</td>\n",
       "    </tr>\n",
       "    <tr>\n",
       "      <th>39</th>\n",
       "      <td>Flintshire County Council</td>\n",
       "      <td>Jan 15 - Mar 15</td>\n",
       "      <td>Q016</td>\n",
       "      <td>Tonnes of material collected for recycling/reu...</td>\n",
       "      <td>WEEE - Large Domestic App</td>\n",
       "      <td>Tonnage collected for recycling</td>\n",
       "      <td>241.51</td>\n",
       "      <td>WEEE</td>\n",
       "    </tr>\n",
       "    <tr>\n",
       "      <th>40</th>\n",
       "      <td>Flintshire County Council</td>\n",
       "      <td>Jan 15 - Mar 15</td>\n",
       "      <td>Q016</td>\n",
       "      <td>Tonnes of material collected for recycling/reu...</td>\n",
       "      <td>WEEE - Small Domestic App</td>\n",
       "      <td>Tonnage collected for recycling</td>\n",
       "      <td>117.48</td>\n",
       "      <td>WEEE</td>\n",
       "    </tr>\n",
       "    <tr>\n",
       "      <th>41</th>\n",
       "      <td>Flintshire County Council</td>\n",
       "      <td>Jan 15 - Mar 15</td>\n",
       "      <td>Q016</td>\n",
       "      <td>Tonnes of material collected for recycling/reu...</td>\n",
       "      <td>WEEE - Cathode Ray Tubes</td>\n",
       "      <td>Tonnage collected for recycling</td>\n",
       "      <td>44.59</td>\n",
       "      <td>WEEE</td>\n",
       "    </tr>\n",
       "    <tr>\n",
       "      <th>42</th>\n",
       "      <td>Flintshire County Council</td>\n",
       "      <td>Jan 15 - Mar 15</td>\n",
       "      <td>Q016</td>\n",
       "      <td>Tonnes of material collected for recycling/reu...</td>\n",
       "      <td>WEEE - Flourescent tubes and other light bulbs</td>\n",
       "      <td>Tonnage collected for recycling</td>\n",
       "      <td>1</td>\n",
       "      <td>WEEE</td>\n",
       "    </tr>\n",
       "  </tbody>\n",
       "</table>\n",
       "</div>"
      ],
      "text/plain": [
       "                    Authority           Period QuestionNumber  \\\n",
       "38  Flintshire County Council  Jan 15 - Mar 15           Q016   \n",
       "39  Flintshire County Council  Jan 15 - Mar 15           Q016   \n",
       "40  Flintshire County Council  Jan 15 - Mar 15           Q016   \n",
       "41  Flintshire County Council  Jan 15 - Mar 15           Q016   \n",
       "42  Flintshire County Council  Jan 15 - Mar 15           Q016   \n",
       "\n",
       "                                               QuText  \\\n",
       "38  Tonnes of material collected for recycling/reu...   \n",
       "39  Tonnes of material collected for recycling/reu...   \n",
       "40  Tonnes of material collected for recycling/reu...   \n",
       "41  Tonnes of material collected for recycling/reu...   \n",
       "42  Tonnes of material collected for recycling/reu...   \n",
       "\n",
       "                                           RowText  \\\n",
       "38                         Green garden waste only   \n",
       "39                       WEEE - Large Domestic App   \n",
       "40                       WEEE - Small Domestic App   \n",
       "41                        WEEE - Cathode Ray Tubes   \n",
       "42  WEEE - Flourescent tubes and other light bulbs   \n",
       "\n",
       "                            ColText    Data MaterialGroup  \n",
       "38  Tonnage collected for recycling  328.54       Organic  \n",
       "39  Tonnage collected for recycling  241.51          WEEE  \n",
       "40  Tonnage collected for recycling  117.48          WEEE  \n",
       "41  Tonnage collected for recycling   44.59          WEEE  \n",
       "42  Tonnage collected for recycling       1          WEEE  "
      ]
     },
     "execution_count": 47,
     "metadata": {},
     "output_type": "execute_result"
    }
   ],
   "source": [
    "hwrcs_rec_ton.head()"
   ]
  },
  {
   "cell_type": "markdown",
   "metadata": {},
   "source": [
    "#Rejected send to residual"
   ]
  },
  {
   "cell_type": "code",
   "execution_count": 48,
   "metadata": {
    "collapsed": false
   },
   "outputs": [
    {
     "data": {
      "text/html": [
       "<div>\n",
       "<table border=\"1\" class=\"dataframe\">\n",
       "  <thead>\n",
       "    <tr style=\"text-align: right;\">\n",
       "      <th></th>\n",
       "      <th>Authority</th>\n",
       "      <th>Period</th>\n",
       "      <th>QuestionNumber</th>\n",
       "      <th>QuText</th>\n",
       "      <th>RowText</th>\n",
       "      <th>ColText</th>\n",
       "      <th>Data</th>\n",
       "      <th>MaterialGroup</th>\n",
       "    </tr>\n",
       "  </thead>\n",
       "  <tbody>\n",
       "    <tr>\n",
       "      <th>4514</th>\n",
       "      <td>Carmarthenshire County Council</td>\n",
       "      <td>Jan 15 - Mar 15</td>\n",
       "      <td>Q016</td>\n",
       "      <td>Tonnes of material collected for recycling/reu...</td>\n",
       "      <td>Paint</td>\n",
       "      <td>Tonnage collected for recycling but actually r...</td>\n",
       "      <td>32.2</td>\n",
       "      <td>Paint</td>\n",
       "    </tr>\n",
       "    <tr>\n",
       "      <th>4720</th>\n",
       "      <td>Carmarthenshire County Council</td>\n",
       "      <td>Oct 14 - Dec 14</td>\n",
       "      <td>Q016</td>\n",
       "      <td>Tonnes of material collected for recycling/reu...</td>\n",
       "      <td>Paint</td>\n",
       "      <td>Tonnage collected for recycling but actually r...</td>\n",
       "      <td>33.84</td>\n",
       "      <td>Paint</td>\n",
       "    </tr>\n",
       "    <tr>\n",
       "      <th>4940</th>\n",
       "      <td>Carmarthenshire County Council</td>\n",
       "      <td>Jul 14 - Sep 14</td>\n",
       "      <td>Q016</td>\n",
       "      <td>Tonnes of material collected for recycling/reu...</td>\n",
       "      <td>Paint</td>\n",
       "      <td>Tonnage collected for recycling but actually r...</td>\n",
       "      <td>57.98</td>\n",
       "      <td>Paint</td>\n",
       "    </tr>\n",
       "    <tr>\n",
       "      <th>5165</th>\n",
       "      <td>Carmarthenshire County Council</td>\n",
       "      <td>Apr 14 - Jun 14</td>\n",
       "      <td>Q016</td>\n",
       "      <td>Tonnes of material collected for recycling/reu...</td>\n",
       "      <td>Paint</td>\n",
       "      <td>Tonnage collected for recycling but actually r...</td>\n",
       "      <td>61.24</td>\n",
       "      <td>Paint</td>\n",
       "    </tr>\n",
       "    <tr>\n",
       "      <th>9669</th>\n",
       "      <td>Cardiff County Council</td>\n",
       "      <td>Apr 14 - Jun 14</td>\n",
       "      <td>Q016</td>\n",
       "      <td>Tonnes of material collected for recycling/reu...</td>\n",
       "      <td>Rubble</td>\n",
       "      <td>Tonnage collected for recycling but actually r...</td>\n",
       "      <td>18.32</td>\n",
       "      <td>Rubble</td>\n",
       "    </tr>\n",
       "  </tbody>\n",
       "</table>\n",
       "</div>"
      ],
      "text/plain": [
       "                           Authority           Period QuestionNumber  \\\n",
       "4514  Carmarthenshire County Council  Jan 15 - Mar 15           Q016   \n",
       "4720  Carmarthenshire County Council  Oct 14 - Dec 14           Q016   \n",
       "4940  Carmarthenshire County Council  Jul 14 - Sep 14           Q016   \n",
       "5165  Carmarthenshire County Council  Apr 14 - Jun 14           Q016   \n",
       "9669          Cardiff County Council  Apr 14 - Jun 14           Q016   \n",
       "\n",
       "                                                 QuText RowText  \\\n",
       "4514  Tonnes of material collected for recycling/reu...   Paint   \n",
       "4720  Tonnes of material collected for recycling/reu...   Paint   \n",
       "4940  Tonnes of material collected for recycling/reu...   Paint   \n",
       "5165  Tonnes of material collected for recycling/reu...   Paint   \n",
       "9669  Tonnes of material collected for recycling/reu...  Rubble   \n",
       "\n",
       "                                                ColText   Data MaterialGroup  \n",
       "4514  Tonnage collected for recycling but actually r...   32.2         Paint  \n",
       "4720  Tonnage collected for recycling but actually r...  33.84         Paint  \n",
       "4940  Tonnage collected for recycling but actually r...  57.98         Paint  \n",
       "5165  Tonnage collected for recycling but actually r...  61.24         Paint  \n",
       "9669  Tonnage collected for recycling but actually r...  18.32        Rubble  "
      ]
     },
     "execution_count": 48,
     "metadata": {},
     "output_type": "execute_result"
    }
   ],
   "source": [
    "question_16[(question_16.ColText == 'Tonnage collected for recycling but actually rejected / disposed') & (question_16.Data > 0)]"
   ]
  },
  {
   "cell_type": "markdown",
   "metadata": {},
   "source": [
    "#Reuse"
   ]
  },
  {
   "cell_type": "code",
   "execution_count": 49,
   "metadata": {
    "collapsed": false
   },
   "outputs": [
    {
     "data": {
      "text/plain": [
       "array([u'WEEE - Large Domestic App', u'Bric-a-brac',\n",
       "       u'Textiles & footwear', u'Furniture', u'Wood',\n",
       "       u'WEEE - Small Domestic App', u'Video tapes, DVDs and CDs'], dtype=object)"
      ]
     },
     "execution_count": 49,
     "metadata": {},
     "output_type": "execute_result"
    }
   ],
   "source": [
    "#This is making sure that the materials for reuse in hhkerb can be summed for sum_dry-recycling (not garden waste, etc.)\n",
    "df = massflow_baseline.get_data()\n",
    "hhkerb_rec = df[df.QuestionNumber == 'Q010']\n",
    "hhkerb_reu_ton = hhkerb_rec[(hhkerb_rec.ColText == 'Tonnage Collected for Reuse') & (hhkerb_rec.Data > 0)]\n",
    "#hhkerb_reu_ton = hhkerb_rec.groupby('ColText').get_group('Tonnage Collected for Reuse')\n",
    "hhkerb_reu_ton.RowText.unique()\n",
    "#hhkerb_reu_ton_qtr = hhkerb_reu_ton.pivot_table(values='Data', index=['Authority','Period'],columns='RowText', aggfunc = lambda x: x)"
   ]
  },
  {
   "cell_type": "code",
   "execution_count": 50,
   "metadata": {
    "collapsed": false
   },
   "outputs": [
    {
     "data": {
      "text/plain": [
       "array([u'Books', u'Textiles & footwear', u'Rubble',\n",
       "       u'WEEE - Fridges & Freezers', u'WEEE - Large Domestic App',\n",
       "       u'Bric-a-brac', u'Gas bottles', u'Bicycles', u'Soil',\n",
       "       u'Plasterboard', u'Mixed Plastic Bottles',\n",
       "       u'Green garden waste only', u'WEEE - Small Domestic App',\n",
       "       u'WEEE - Flourescent tubes and other light bulbs',\n",
       "       u'Composite food and beverage cartons', u'Mattresses',\n",
       "       u'Mixed glass', u'Paper', u'Card', u'Mixed cans', u'Plastics',\n",
       "       u'Co mingled materials', u'Wood', u'Other Scrap metal',\n",
       "       u'Automotive batteries', u'Vegetable Oil', u'Mineral Oil', u'Paint',\n",
       "       u'Furniture', u'WEEE - Cathode Ray Tubes', u'Carpets',\n",
       "       u'Clear glass', u'Post consumer, non automotive batteries',\n",
       "       u'Other materials', u'Mixed tyres', u'Video tapes, DVDs and CDs',\n",
       "       u'Car tyres'], dtype=object)"
      ]
     },
     "execution_count": 50,
     "metadata": {},
     "output_type": "execute_result"
    }
   ],
   "source": [
    "df = massflow_baseline.get_data()\n",
    "hwrcs_rec = df[df.QuestionNumber == 'Q016']\n",
    "hwrcs_reu_ton = hwrcs_rec.groupby('ColText').get_group('Tonnage collected for reuse')\n",
    "hwrcs_reu_ton.RowText.unique()"
   ]
  },
  {
   "cell_type": "code",
   "execution_count": 51,
   "metadata": {
    "collapsed": false
   },
   "outputs": [
    {
     "data": {
      "text/plain": [
       "array([u'Books', u'Textiles & footwear', u'Rubble',\n",
       "       u'WEEE - Fridges & Freezers', u'WEEE - Large Domestic App',\n",
       "       u'Bric-a-brac', u'Gas bottles', u'Bicycles', u'Soil',\n",
       "       u'Plasterboard', u'Furniture', u'Other Scrap metal', u'Wood',\n",
       "       u'Video tapes, DVDs and CDs', u'Paint', u'Car tyres'], dtype=object)"
      ]
     },
     "execution_count": 51,
     "metadata": {},
     "output_type": "execute_result"
    }
   ],
   "source": [
    "#This is making sure that the materials for reuse in hwrcs can be summed for sum_dry-recycling (not garden waste, etc.)\n",
    "hwrcs_reu_ton = question_16[(question_16.ColText == 'Tonnage collected for reuse') & (question_16.Data > 0)]\n",
    "hwrcs_reu_ton.RowText.unique()"
   ]
  },
  {
   "cell_type": "code",
   "execution_count": 53,
   "metadata": {
    "collapsed": false
   },
   "outputs": [
    {
     "data": {
      "text/html": [
       "<div>\n",
       "<table border=\"1\" class=\"dataframe\">\n",
       "  <thead>\n",
       "    <tr style=\"text-align: right;\">\n",
       "      <th></th>\n",
       "      <th>Authority</th>\n",
       "      <th>Period</th>\n",
       "      <th>QuestionNumber</th>\n",
       "      <th>QuText</th>\n",
       "      <th>RowText</th>\n",
       "      <th>ColText</th>\n",
       "      <th>Data</th>\n",
       "      <th>MaterialGroup</th>\n",
       "    </tr>\n",
       "  </thead>\n",
       "  <tbody>\n",
       "    <tr>\n",
       "      <th>52</th>\n",
       "      <td>Flintshire County Council</td>\n",
       "      <td>Jan 15 - Mar 15</td>\n",
       "      <td>Q016</td>\n",
       "      <td>Tonnes of material collected for recycling/reu...</td>\n",
       "      <td>Books</td>\n",
       "      <td>Tonnage collected for reuse</td>\n",
       "      <td>7.86</td>\n",
       "      <td>Paper &amp; Card</td>\n",
       "    </tr>\n",
       "    <tr>\n",
       "      <th>54</th>\n",
       "      <td>Flintshire County Council</td>\n",
       "      <td>Jan 15 - Mar 15</td>\n",
       "      <td>Q016</td>\n",
       "      <td>Tonnes of material collected for recycling/reu...</td>\n",
       "      <td>Textiles &amp; footwear</td>\n",
       "      <td>Tonnage collected for reuse</td>\n",
       "      <td>36.624</td>\n",
       "      <td>Textiles</td>\n",
       "    </tr>\n",
       "    <tr>\n",
       "      <th>56</th>\n",
       "      <td>Flintshire County Council</td>\n",
       "      <td>Jan 15 - Mar 15</td>\n",
       "      <td>Q016</td>\n",
       "      <td>Tonnes of material collected for recycling/reu...</td>\n",
       "      <td>Rubble</td>\n",
       "      <td>Tonnage collected for reuse</td>\n",
       "      <td>1305.51</td>\n",
       "      <td>Rubble</td>\n",
       "    </tr>\n",
       "    <tr>\n",
       "      <th>157</th>\n",
       "      <td>Flintshire County Council</td>\n",
       "      <td>Oct 14 - Dec 14</td>\n",
       "      <td>Q016</td>\n",
       "      <td>Tonnes of material collected for recycling/reu...</td>\n",
       "      <td>Books</td>\n",
       "      <td>Tonnage collected for reuse</td>\n",
       "      <td>5.491</td>\n",
       "      <td>Paper &amp; Card</td>\n",
       "    </tr>\n",
       "    <tr>\n",
       "      <th>159</th>\n",
       "      <td>Flintshire County Council</td>\n",
       "      <td>Oct 14 - Dec 14</td>\n",
       "      <td>Q016</td>\n",
       "      <td>Tonnes of material collected for recycling/reu...</td>\n",
       "      <td>Textiles &amp; footwear</td>\n",
       "      <td>Tonnage collected for reuse</td>\n",
       "      <td>15.25</td>\n",
       "      <td>Textiles</td>\n",
       "    </tr>\n",
       "  </tbody>\n",
       "</table>\n",
       "</div>"
      ],
      "text/plain": [
       "                     Authority           Period QuestionNumber  \\\n",
       "52   Flintshire County Council  Jan 15 - Mar 15           Q016   \n",
       "54   Flintshire County Council  Jan 15 - Mar 15           Q016   \n",
       "56   Flintshire County Council  Jan 15 - Mar 15           Q016   \n",
       "157  Flintshire County Council  Oct 14 - Dec 14           Q016   \n",
       "159  Flintshire County Council  Oct 14 - Dec 14           Q016   \n",
       "\n",
       "                                                QuText              RowText  \\\n",
       "52   Tonnes of material collected for recycling/reu...                Books   \n",
       "54   Tonnes of material collected for recycling/reu...  Textiles & footwear   \n",
       "56   Tonnes of material collected for recycling/reu...               Rubble   \n",
       "157  Tonnes of material collected for recycling/reu...                Books   \n",
       "159  Tonnes of material collected for recycling/reu...  Textiles & footwear   \n",
       "\n",
       "                         ColText     Data MaterialGroup  \n",
       "52   Tonnage collected for reuse     7.86  Paper & Card  \n",
       "54   Tonnage collected for reuse   36.624      Textiles  \n",
       "56   Tonnage collected for reuse  1305.51        Rubble  \n",
       "157  Tonnage collected for reuse    5.491  Paper & Card  \n",
       "159  Tonnage collected for reuse    15.25      Textiles  "
      ]
     },
     "execution_count": 53,
     "metadata": {},
     "output_type": "execute_result"
    }
   ],
   "source": [
    "hwrcs_reu_ton.head()"
   ]
  },
  {
   "cell_type": "markdown",
   "metadata": {},
   "source": [
    "#Test functions"
   ]
  },
  {
   "cell_type": "code",
   "execution_count": 92,
   "metadata": {
    "collapsed": false
   },
   "outputs": [],
   "source": [
    "drslist = ['Authority','Brown glass','Clear glass','Green glass','Mixed glass',\n",
    "                                   'Mixed Plastic Bottles','Plastics',\n",
    "                                   'Aluminium cans','Steel cans','Mixed cans',\n",
    "                                   'Composite food and beverage cartons',\n",
    "                                   'Co mingled materials','sum_dry_rec']\n",
    "#Get recycling data from CA sites (Question 16)\n",
    "hwrcs_rec_ca = (raw[(raw.QuestionNumber == 'Q016') & (raw.ColText == 'Tonnage collected for recycling')]\n",
    "                         .pivot_table(values='Data', index=['Authority','Period'],\n",
    "                                      columns='RowText', aggfunc = lambda x: x).reset_index())\n",
    "hwrcs_rec_ca_la = (hwrcs_rec_ca.groupby('Authority').agg(np.sum).reset_index()\n",
    "                     .drop(['Green garden waste only'],axis=1))\n",
    "#Get sum of dry recycling\n",
    "hwrcs_rec_ca_la['sum_dry_rec'] = hwrcs_rec_ca_la.sum(axis=1)\n",
    "#Keep DRS relevant columns, drop the rest\n",
    "hwrcs_rec_ca_la = hwrcs_rec_ca_la[drslist]"
   ]
  },
  {
   "cell_type": "code",
   "execution_count": 119,
   "metadata": {
    "collapsed": false
   },
   "outputs": [],
   "source": [
    "#Get recycling data from bring sites (Question 17)\n",
    "hwrcs_rec_bring = (raw[(raw.QuestionNumber == 'Q017') & (raw.ColText == 'Tonnage collected for recycling')]\n",
    "                         .pivot_table(values='Data', index=['Authority','Period'],\n",
    "                                      columns='RowText', aggfunc = lambda x: x).reset_index())\n",
    "hwrcs_rec_bring_la = (hwrcs_rec_bring.groupby('Authority').agg(np.sum).reset_index()\n",
    "                     .drop(['Green garden waste only'],axis=1))\n",
    "#Get sum of dry recycling\n",
    "hwrcs_rec_bring_la['sum_dry_rec'] = hwrcs_rec_bring_la.sum(axis=1)\n",
    "#Keep DRS relevant columns, drop the rest\n",
    "hwrcs_rec_bring_la = hwrcs_rec_bring_la[drslist]\n",
    "#Add second to last row 'Vale of Glamorgan Council'\n",
    "hwrcs_rec_bring_la = hwrcs_rec_bring_la.merge(hwrcs_rec_ca_la[['Authority']],how='outer',on='Authority').sort('Authority')\n",
    "hwrcs_rec_bring_la.index = range(0,len(hwrcs_rec_bring_la))"
   ]
  },
  {
   "cell_type": "code",
   "execution_count": 125,
   "metadata": {
    "collapsed": true
   },
   "outputs": [],
   "source": [
    "hwrcs_rec_ca_la = hwrcs_rec_ca_la.replace(np.NaN,0)\n",
    "hwrcs_rec_bring_la = hwrcs_rec_bring_la.replace(np.NaN,0)"
   ]
  },
  {
   "cell_type": "code",
   "execution_count": 130,
   "metadata": {
    "collapsed": false
   },
   "outputs": [
    {
     "data": {
      "text/html": [
       "<div>\n",
       "<table border=\"1\" class=\"dataframe\">\n",
       "  <thead>\n",
       "    <tr style=\"text-align: right;\">\n",
       "      <th>RowText</th>\n",
       "      <th>Authority</th>\n",
       "      <th>Brown glass</th>\n",
       "      <th>Clear glass</th>\n",
       "      <th>Green glass</th>\n",
       "      <th>Mixed glass</th>\n",
       "      <th>Mixed Plastic Bottles</th>\n",
       "      <th>Plastics</th>\n",
       "      <th>Aluminium cans</th>\n",
       "      <th>Steel cans</th>\n",
       "      <th>Mixed cans</th>\n",
       "      <th>Composite food and beverage cartons</th>\n",
       "      <th>Co mingled materials</th>\n",
       "      <th>sum_dry_rec</th>\n",
       "    </tr>\n",
       "  </thead>\n",
       "  <tbody>\n",
       "    <tr>\n",
       "      <th>0</th>\n",
       "      <td>Blaenau Gwent CBC</td>\n",
       "      <td>0</td>\n",
       "      <td>0.0</td>\n",
       "      <td>0</td>\n",
       "      <td>45.64</td>\n",
       "      <td>1.264</td>\n",
       "      <td>98.12</td>\n",
       "      <td>0.00</td>\n",
       "      <td>0</td>\n",
       "      <td>0.0</td>\n",
       "      <td>0.00</td>\n",
       "      <td>0.00</td>\n",
       "      <td>3474.659</td>\n",
       "    </tr>\n",
       "    <tr>\n",
       "      <th>1</th>\n",
       "      <td>Bridgend CBC</td>\n",
       "      <td>0</td>\n",
       "      <td>0.0</td>\n",
       "      <td>0</td>\n",
       "      <td>140.55</td>\n",
       "      <td>0.600</td>\n",
       "      <td>678.79</td>\n",
       "      <td>55.73</td>\n",
       "      <td>0</td>\n",
       "      <td>0.0</td>\n",
       "      <td>0.00</td>\n",
       "      <td>0.00</td>\n",
       "      <td>11110.720</td>\n",
       "    </tr>\n",
       "    <tr>\n",
       "      <th>2</th>\n",
       "      <td>Caerphilly CBC</td>\n",
       "      <td>0</td>\n",
       "      <td>0.0</td>\n",
       "      <td>0</td>\n",
       "      <td>33.08</td>\n",
       "      <td>0.000</td>\n",
       "      <td>0.00</td>\n",
       "      <td>0.00</td>\n",
       "      <td>0</td>\n",
       "      <td>0.0</td>\n",
       "      <td>0.00</td>\n",
       "      <td>10099.57</td>\n",
       "      <td>23896.750</td>\n",
       "    </tr>\n",
       "    <tr>\n",
       "      <th>3</th>\n",
       "      <td>Cardiff County Council</td>\n",
       "      <td>0</td>\n",
       "      <td>0.0</td>\n",
       "      <td>0</td>\n",
       "      <td>42.72</td>\n",
       "      <td>0.000</td>\n",
       "      <td>0.00</td>\n",
       "      <td>0.00</td>\n",
       "      <td>0</td>\n",
       "      <td>0.0</td>\n",
       "      <td>0.31</td>\n",
       "      <td>909.64</td>\n",
       "      <td>20096.510</td>\n",
       "    </tr>\n",
       "    <tr>\n",
       "      <th>4</th>\n",
       "      <td>Carmarthenshire County Council</td>\n",
       "      <td>0</td>\n",
       "      <td>276.9</td>\n",
       "      <td>0</td>\n",
       "      <td>3600.98</td>\n",
       "      <td>0.000</td>\n",
       "      <td>679.18</td>\n",
       "      <td>0.00</td>\n",
       "      <td>0</td>\n",
       "      <td>66.1</td>\n",
       "      <td>0.00</td>\n",
       "      <td>1676.42</td>\n",
       "      <td>22143.150</td>\n",
       "    </tr>\n",
       "  </tbody>\n",
       "</table>\n",
       "</div>"
      ],
      "text/plain": [
       "RowText                       Authority  Brown glass  Clear glass  \\\n",
       "0                     Blaenau Gwent CBC            0          0.0   \n",
       "1                          Bridgend CBC            0          0.0   \n",
       "2                        Caerphilly CBC            0          0.0   \n",
       "3                Cardiff County Council            0          0.0   \n",
       "4        Carmarthenshire County Council            0        276.9   \n",
       "\n",
       "RowText  Green glass  Mixed glass  Mixed Plastic Bottles  Plastics  \\\n",
       "0                  0        45.64                  1.264     98.12   \n",
       "1                  0       140.55                  0.600    678.79   \n",
       "2                  0        33.08                  0.000      0.00   \n",
       "3                  0        42.72                  0.000      0.00   \n",
       "4                  0      3600.98                  0.000    679.18   \n",
       "\n",
       "RowText  Aluminium cans  Steel cans  Mixed cans  \\\n",
       "0                  0.00           0         0.0   \n",
       "1                 55.73           0         0.0   \n",
       "2                  0.00           0         0.0   \n",
       "3                  0.00           0         0.0   \n",
       "4                  0.00           0        66.1   \n",
       "\n",
       "RowText  Composite food and beverage cartons  Co mingled materials  \\\n",
       "0                                       0.00                  0.00   \n",
       "1                                       0.00                  0.00   \n",
       "2                                       0.00              10099.57   \n",
       "3                                       0.31                909.64   \n",
       "4                                       0.00               1676.42   \n",
       "\n",
       "RowText  sum_dry_rec  \n",
       "0           3474.659  \n",
       "1          11110.720  \n",
       "2          23896.750  \n",
       "3          20096.510  \n",
       "4          22143.150  "
      ]
     },
     "execution_count": 130,
     "metadata": {},
     "output_type": "execute_result"
    }
   ],
   "source": [
    "test = (hwrcs_rec_ca_la + hwrcs_rec_bring_la)\n",
    "test['Authority'] = hwrcs_rec_bring_la['Authority']\n",
    "test.head()"
   ]
  },
  {
   "cell_type": "markdown",
   "metadata": {},
   "source": [
    "#Reuse from Q017 and Q016"
   ]
  },
  {
   "cell_type": "code",
   "execution_count": 140,
   "metadata": {
    "collapsed": false
   },
   "outputs": [],
   "source": [
    "hwrcs_reu_ca = raw[(raw.QuestionNumber == 'Q016') & \n",
    "                     (raw.ColText == 'Tonnage collected for reuse') & \n",
    "                     (raw.Data > 0)]\n",
    "#It has been verified that all the materials selected above can be added to sum_dry_rec\n",
    "hwrcs_reu_ca_la = (hwrcs_reu_ca.groupby('Authority')['Data'].agg(np.sum).to_frame().reset_index()\n",
    "                         .rename(columns={'Data':'sum_dry_rec'}))"
   ]
  },
  {
   "cell_type": "code",
   "execution_count": 141,
   "metadata": {
    "collapsed": false
   },
   "outputs": [
    {
     "data": {
      "text/html": [
       "<div>\n",
       "<table border=\"1\" class=\"dataframe\">\n",
       "  <thead>\n",
       "    <tr style=\"text-align: right;\">\n",
       "      <th></th>\n",
       "      <th>Authority</th>\n",
       "      <th>sum_dry_rec</th>\n",
       "    </tr>\n",
       "  </thead>\n",
       "  <tbody>\n",
       "    <tr>\n",
       "      <th>0</th>\n",
       "      <td>Blaenau Gwent CBC</td>\n",
       "      <td>6.136</td>\n",
       "    </tr>\n",
       "    <tr>\n",
       "      <th>1</th>\n",
       "      <td>Cardiff County Council</td>\n",
       "      <td>320.310</td>\n",
       "    </tr>\n",
       "    <tr>\n",
       "      <th>2</th>\n",
       "      <td>Carmarthenshire County Council</td>\n",
       "      <td>19.020</td>\n",
       "    </tr>\n",
       "    <tr>\n",
       "      <th>3</th>\n",
       "      <td>Ceredigion County Council</td>\n",
       "      <td>1602.210</td>\n",
       "    </tr>\n",
       "    <tr>\n",
       "      <th>4</th>\n",
       "      <td>City  and County of Swansea</td>\n",
       "      <td>271.600</td>\n",
       "    </tr>\n",
       "    <tr>\n",
       "      <th>5</th>\n",
       "      <td>Conwy CBC</td>\n",
       "      <td>18.620</td>\n",
       "    </tr>\n",
       "    <tr>\n",
       "      <th>6</th>\n",
       "      <td>Denbighshire County Council</td>\n",
       "      <td>213.945</td>\n",
       "    </tr>\n",
       "    <tr>\n",
       "      <th>7</th>\n",
       "      <td>Flintshire County Council</td>\n",
       "      <td>7708.283</td>\n",
       "    </tr>\n",
       "    <tr>\n",
       "      <th>8</th>\n",
       "      <td>Gwynedd Council</td>\n",
       "      <td>1175.870</td>\n",
       "    </tr>\n",
       "    <tr>\n",
       "      <th>9</th>\n",
       "      <td>Isle of Anglesey CC</td>\n",
       "      <td>9.920</td>\n",
       "    </tr>\n",
       "    <tr>\n",
       "      <th>10</th>\n",
       "      <td>Merthyr Tydfil CBC</td>\n",
       "      <td>0.980</td>\n",
       "    </tr>\n",
       "    <tr>\n",
       "      <th>11</th>\n",
       "      <td>Monmouthshire CC</td>\n",
       "      <td>207.640</td>\n",
       "    </tr>\n",
       "    <tr>\n",
       "      <th>12</th>\n",
       "      <td>Neath Port Talbot CBC</td>\n",
       "      <td>147.760</td>\n",
       "    </tr>\n",
       "    <tr>\n",
       "      <th>13</th>\n",
       "      <td>Newport City Council</td>\n",
       "      <td>152.780</td>\n",
       "    </tr>\n",
       "    <tr>\n",
       "      <th>14</th>\n",
       "      <td>Pembrokeshire County Council</td>\n",
       "      <td>130.400</td>\n",
       "    </tr>\n",
       "    <tr>\n",
       "      <th>15</th>\n",
       "      <td>Powys County Council</td>\n",
       "      <td>205.589</td>\n",
       "    </tr>\n",
       "    <tr>\n",
       "      <th>16</th>\n",
       "      <td>Vale of Glamorgan Council</td>\n",
       "      <td>55.870</td>\n",
       "    </tr>\n",
       "    <tr>\n",
       "      <th>17</th>\n",
       "      <td>Wrexham CBC</td>\n",
       "      <td>8187.590</td>\n",
       "    </tr>\n",
       "  </tbody>\n",
       "</table>\n",
       "</div>"
      ],
      "text/plain": [
       "                         Authority  sum_dry_rec\n",
       "0                Blaenau Gwent CBC        6.136\n",
       "1           Cardiff County Council      320.310\n",
       "2   Carmarthenshire County Council       19.020\n",
       "3        Ceredigion County Council     1602.210\n",
       "4     City  and County of Swansea       271.600\n",
       "5                        Conwy CBC       18.620\n",
       "6      Denbighshire County Council      213.945\n",
       "7        Flintshire County Council     7708.283\n",
       "8                  Gwynedd Council     1175.870\n",
       "9              Isle of Anglesey CC        9.920\n",
       "10              Merthyr Tydfil CBC        0.980\n",
       "11                Monmouthshire CC      207.640\n",
       "12           Neath Port Talbot CBC      147.760\n",
       "13            Newport City Council      152.780\n",
       "14    Pembrokeshire County Council      130.400\n",
       "15            Powys County Council      205.589\n",
       "16       Vale of Glamorgan Council       55.870\n",
       "17                     Wrexham CBC     8187.590"
      ]
     },
     "execution_count": 141,
     "metadata": {},
     "output_type": "execute_result"
    }
   ],
   "source": [
    "hwrcs_reu_ca_la"
   ]
  },
  {
   "cell_type": "code",
   "execution_count": 144,
   "metadata": {
    "collapsed": false
   },
   "outputs": [],
   "source": [
    "hwrcs_reu_bring = raw[(raw.QuestionNumber == 'Q017') & \n",
    "                     (raw.ColText == 'Tonnage collected for reuse') & \n",
    "                     (raw.Data > 0)]\n",
    "#It has been verified that all the materials selected above can be added to sum_dry_rec\n",
    "hwrcs_reu_bring_la = (hwrcs_reu_bring.groupby('Authority')['Data'].agg(np.sum).to_frame().reset_index()\n",
    "                         .rename(columns={'Data':'sum_dry_rec'}))"
   ]
  },
  {
   "cell_type": "code",
   "execution_count": 146,
   "metadata": {
    "collapsed": false
   },
   "outputs": [
    {
     "data": {
      "text/html": [
       "<div>\n",
       "<table border=\"1\" class=\"dataframe\">\n",
       "  <thead>\n",
       "    <tr style=\"text-align: right;\">\n",
       "      <th></th>\n",
       "      <th>Authority</th>\n",
       "      <th>sum_dry_rec</th>\n",
       "    </tr>\n",
       "  </thead>\n",
       "  <tbody>\n",
       "    <tr>\n",
       "      <th>0</th>\n",
       "      <td>Blaenau Gwent CBC</td>\n",
       "      <td>1.280</td>\n",
       "    </tr>\n",
       "    <tr>\n",
       "      <th>1</th>\n",
       "      <td>Cardiff County Council</td>\n",
       "      <td>45.550</td>\n",
       "    </tr>\n",
       "    <tr>\n",
       "      <th>2</th>\n",
       "      <td>Ceredigion County Council</td>\n",
       "      <td>136.740</td>\n",
       "    </tr>\n",
       "    <tr>\n",
       "      <th>3</th>\n",
       "      <td>Denbighshire County Council</td>\n",
       "      <td>129.462</td>\n",
       "    </tr>\n",
       "    <tr>\n",
       "      <th>4</th>\n",
       "      <td>Flintshire County Council</td>\n",
       "      <td>42.235</td>\n",
       "    </tr>\n",
       "    <tr>\n",
       "      <th>5</th>\n",
       "      <td>Gwynedd Council</td>\n",
       "      <td>83.740</td>\n",
       "    </tr>\n",
       "    <tr>\n",
       "      <th>6</th>\n",
       "      <td>Monmouthshire CC</td>\n",
       "      <td>14.330</td>\n",
       "    </tr>\n",
       "    <tr>\n",
       "      <th>7</th>\n",
       "      <td>Newport City Council</td>\n",
       "      <td>34.070</td>\n",
       "    </tr>\n",
       "    <tr>\n",
       "      <th>8</th>\n",
       "      <td>Pembrokeshire County Council</td>\n",
       "      <td>51.840</td>\n",
       "    </tr>\n",
       "    <tr>\n",
       "      <th>9</th>\n",
       "      <td>Powys County Council</td>\n",
       "      <td>58.620</td>\n",
       "    </tr>\n",
       "    <tr>\n",
       "      <th>10</th>\n",
       "      <td>Rhondda Cynon Taff CBC</td>\n",
       "      <td>42.290</td>\n",
       "    </tr>\n",
       "    <tr>\n",
       "      <th>11</th>\n",
       "      <td>Torfaen CBC</td>\n",
       "      <td>6.680</td>\n",
       "    </tr>\n",
       "    <tr>\n",
       "      <th>12</th>\n",
       "      <td>Wrexham CBC</td>\n",
       "      <td>6.820</td>\n",
       "    </tr>\n",
       "  </tbody>\n",
       "</table>\n",
       "</div>"
      ],
      "text/plain": [
       "                       Authority  sum_dry_rec\n",
       "0              Blaenau Gwent CBC        1.280\n",
       "1         Cardiff County Council       45.550\n",
       "2      Ceredigion County Council      136.740\n",
       "3    Denbighshire County Council      129.462\n",
       "4      Flintshire County Council       42.235\n",
       "5                Gwynedd Council       83.740\n",
       "6               Monmouthshire CC       14.330\n",
       "7           Newport City Council       34.070\n",
       "8   Pembrokeshire County Council       51.840\n",
       "9           Powys County Council       58.620\n",
       "10        Rhondda Cynon Taff CBC       42.290\n",
       "11                   Torfaen CBC        6.680\n",
       "12                   Wrexham CBC        6.820"
      ]
     },
     "execution_count": 146,
     "metadata": {},
     "output_type": "execute_result"
    }
   ],
   "source": [
    "hwrcs_reu_bring_la"
   ]
  },
  {
   "cell_type": "code",
   "execution_count": null,
   "metadata": {
    "collapsed": true
   },
   "outputs": [],
   "source": [
    "#Now just need to merge everything into hwrcs_rec_la (just separately and sum everything up)"
   ]
  }
 ],
 "metadata": {
  "kernelspec": {
   "display_name": "Python 2",
   "language": "python",
   "name": "python2"
  },
  "language_info": {
   "codemirror_mode": {
    "name": "ipython",
    "version": 2
   },
   "file_extension": ".py",
   "mimetype": "text/x-python",
   "name": "python",
   "nbconvert_exporter": "python",
   "pygments_lexer": "ipython2",
   "version": "2.7.10"
  }
 },
 "nbformat": 4,
 "nbformat_minor": 0
}
